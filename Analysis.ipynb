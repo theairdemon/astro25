{
 "cells": [
  {
   "cell_type": "markdown",
   "id": "appreciated-northeast",
   "metadata": {},
   "source": [
    "# Analysis of SED Fitting ML\n",
    "Idea: use the data provided in the MIRKWOOD repo and run my own ML methods on a potion of that dataset"
   ]
  },
  {
   "cell_type": "markdown",
   "id": "reduced-ancient",
   "metadata": {},
   "source": [
    "## Preprocessing\n",
    "This code is taken from MIRKWOOD, to ensure I am retrieving the data in the same way"
   ]
  },
  {
   "cell_type": "code",
   "execution_count": 1,
   "id": "laden-galaxy",
   "metadata": {},
   "outputs": [],
   "source": [
    "import numpy as np\n",
    "import pandas as pd"
   ]
  },
  {
   "cell_type": "code",
   "execution_count": 2,
   "id": "together-sodium",
   "metadata": {},
   "outputs": [],
   "source": [
    "EPS = 1e-6\n",
    "X_simba, y_simba = pd.read_pickle('X_simba.pkl'), pd.read_pickle('y_simba.pkl')\n",
    "X_eagle, y_eagle = pd.read_pickle('X_eagle.pkl'), pd.read_pickle('y_eagle.pkl')\n",
    "X_tng, y_tng = pd.read_pickle('X_tng.pkl'), pd.read_pickle('y_tng.pkl')\n",
    "dataset_dict = {'simba': (X_simba, y_simba), 'eagle': (X_eagle, y_eagle), 'tng': (X_tng, y_tng)}"
   ]
  },
  {
   "cell_type": "code",
   "execution_count": 3,
   "id": "seven-hungary",
   "metadata": {},
   "outputs": [],
   "source": [
    "def get_data(train_data, dataset_dict=dataset_dict):\n",
    "    X = pd.DataFrame()\n",
    "    y = pd.DataFrame()\n",
    "    for i in train_data:\n",
    "        X = pd.concat((X, dataset_dict[i][0]), axis=0).reset_index().drop('index', axis=1)\n",
    "        y = pd.concat((y, dataset_dict[i][1]), axis=0).reset_index().drop('index', axis=1)\n",
    "    #\n",
    "    #redshift = y['z'].values\n",
    "    \n",
    "    logmass = np.log10(y['stellar_mass'].values)\n",
    "    logdustmass = np.log10(1+y['dust_mass']).values\n",
    "    logmet = np.log10(y['metallicity']).values\n",
    "    logsfr = np.log10(1+y['sfr'].values)\n",
    "    #\n",
    "    logmass[logmass<EPS] = 0\n",
    "    logsfr[logsfr<EPS] = 0\n",
    "    #logmet[logmet<EPS] = 0\n",
    "    logdustmass[logdustmass<EPS] = 0\n",
    "    return X, (logmass, logdustmass, logmet, logsfr)"
   ]
  },
  {
   "cell_type": "markdown",
   "id": "interracial-sullivan",
   "metadata": {},
   "source": [
    "## ML Methods"
   ]
  },
  {
   "cell_type": "code",
   "execution_count": 60,
   "id": "retired-penny",
   "metadata": {},
   "outputs": [],
   "source": [
    "from sklearn.neural_network import MLPRegressor\n",
    "from ngboost import NGBRegressor\n",
    "\n",
    "from sklearn.model_selection import train_test_split\n",
    "from sklearn.preprocessing import MinMaxScaler\n",
    "from sklearn.metrics import mean_squared_error\n",
    "\n",
    "import matplotlib.pyplot as plt\n",
    "import seaborn as sns\n",
    "\n",
    "import time\n",
    "import math"
   ]
  },
  {
   "cell_type": "markdown",
   "id": "statutory-summer",
   "metadata": {},
   "source": [
    "Sources\n",
    "- Perceptron Docs https://scikit-learn.org/stable/modules/generated/sklearn.linear_model.Perceptron.html#sklearn.linear_model.Perceptron\n",
    "- MLPRegressor Example https://scikit-learn.org/stable/modules/generated/sklearn.neural_network.MLPRegressor.html#sklearn.neural_network.MLPRegressor\n",
    "- MLP Sklearn Overview https://scikit-learn.org/stable/modules/neural_networks_supervised.html#regression\n",
    "- NGBoost library https://github.com/stanfordmlgroup/ngboost"
   ]
  },
  {
   "cell_type": "code",
   "execution_count": 192,
   "id": "equivalent-attention",
   "metadata": {},
   "outputs": [
    {
     "name": "stdout",
     "output_type": "stream",
     "text": [
      "(1797, 35)\n"
     ]
    }
   ],
   "source": [
    "X, y_total = get_data(['simba'])\n",
    "data_type = 3\n",
    "y = y_total[data_type]\n",
    "graph_name = \"\"\n",
    "if data_type == 0:\n",
    "    graph_name = \"Stellar Mass\"\n",
    "elif data_type == 1:\n",
    "    graph_name = \"Dust Mass\"\n",
    "elif data_type == 2:\n",
    "    graph_name = \"Metallicity\"\n",
    "elif data_type == 3:\n",
    "    graph_name = \"SFR\"\n",
    "else:\n",
    "    graph_name = \"UNKNOWN\"\n",
    "\n",
    "print(X.shape)"
   ]
  },
  {
   "cell_type": "code",
   "execution_count": 193,
   "id": "distinct-norfolk",
   "metadata": {},
   "outputs": [],
   "source": [
    "#Preprocessing test and training sets, for consistency\n",
    "X_train, X_test, y_train, y_test = train_test_split(X, y, random_state=1)\n",
    "\n",
    "scaler = MinMaxScaler()\n",
    "X_train_norm = scaler.fit_transform(X_train)\n",
    "X_test_norm = scaler.fit_transform(X_test)\n",
    "\n",
    "X_norm = scaler.fit_transform(X)"
   ]
  },
  {
   "cell_type": "code",
   "execution_count": 194,
   "id": "aerial-butler",
   "metadata": {},
   "outputs": [
    {
     "name": "stdout",
     "output_type": "stream",
     "text": [
      "MLP MSE: 0.002588513499331825\n",
      "Time elapsed: 0.1645338535308838\n"
     ]
    }
   ],
   "source": [
    "# Multi-Layer Perceptron\n",
    "mlp_time = time.time()\n",
    "regr = MLPRegressor(random_state=1, max_iter=500).fit(X_train_norm, y_train)\n",
    "mlp_y_pred = regr.predict(X_test_norm)\n",
    "\n",
    "mlp_mse = mean_squared_error(mlp_y_pred, y_test)\n",
    "print(\"MLP MSE: \" + str(mlp_mse))\n",
    "print(\"Time elapsed: \" + str(time.time() - mlp_time))"
   ]
  },
  {
   "cell_type": "code",
   "execution_count": 195,
   "id": "computational-helena",
   "metadata": {},
   "outputs": [
    {
     "name": "stdout",
     "output_type": "stream",
     "text": [
      "[iter 0] loss=-0.3010 val_loss=0.0000 scale=2.0000 norm=1.4181\n",
      "[iter 100] loss=-1.5220 val_loss=0.0000 scale=2.0000 norm=0.8914\n",
      "[iter 200] loss=-2.2660 val_loss=0.0000 scale=2.0000 norm=0.8464\n",
      "[iter 300] loss=-2.7750 val_loss=0.0000 scale=2.0000 norm=0.8266\n",
      "[iter 400] loss=-3.0920 val_loss=0.0000 scale=2.0000 norm=0.8399\n",
      "NGB MSE: 0.002871612511231211\n",
      "Time elapsed: 13.743287801742554\n"
     ]
    }
   ],
   "source": [
    "ngb_time = time.time()\n",
    "ngb = NGBRegressor().fit(X_train_norm, y_train)\n",
    "ngb_y_pred = ngb.predict(X_test_norm)\n",
    "\n",
    "ngb_mse = mean_squared_error(ngb_y_pred, y_test)\n",
    "print(\"NGB MSE: \" + str(ngb_mse))\n",
    "print(\"Time elapsed: \" + str(time.time()-ngb_time))"
   ]
  },
  {
   "cell_type": "code",
   "execution_count": 196,
   "id": "covered-jenny",
   "metadata": {},
   "outputs": [
    {
     "data": {
      "image/png": "[encoded data removed]",
      "text/plain": [
       "<Figure size 432x288 with 2 Axes>"
      ]
     },
     "metadata": {},
     "output_type": "display_data"
    }
   ],
   "source": [
    "all_mse = [[],[]]\n",
    "for i in range(len(y_test)):\n",
    "    all_mse[0].append((mlp_y_pred[i]-y_test[i])**2)\n",
    "    all_mse[1].append((ngb_y_pred[i]-y_test[i])**2)\n",
    "#print(len(all_mse[1]))\n",
    "n_bins = 25\n",
    "\n",
    "colors = ['blue', 'orange']\n",
    "labels = ['MLP', 'NGB']\n",
    "\n",
    "fig, axs = plt.subplots(1, 2, sharey=True, tight_layout=True)\n",
    "fig.suptitle(graph_name + ' - Squared Error')\n",
    "\n",
    "axs[0].hist(all_mse[0], n_bins, histtype='stepfilled', color=colors[0], label=labels[0])\n",
    "#axs[0].legend(prop={'size': 10})\n",
    "axs[0].set_title('MLP')\n",
    "axs[1].hist(all_mse[1], n_bins, histtype='stepfilled', color=colors[1], label=labels[1])\n",
    "#axs[1].legend(prop={'size': 10})\n",
    "axs[1].set_title('NGBoost')\n",
    "\n",
    "#plt.hist(all_mse, n_bins, histtype='bar', color=colors, label=['MLP', 'NGB'])\n",
    "#plt.legend(prop={'size': 10})\n",
    "plt.xlabel('Squared Error')\n",
    "plt.ylabel('# of Galaxies')\n",
    "plt.show()"
   ]
  },
  {
   "cell_type": "markdown",
   "id": "existing-coverage",
   "metadata": {},
   "source": [
    "Preliminary thoughts\n",
    "- Extremely close MSE on the prediction vs test results for both\n",
    "- MLP has more that are nearly completely correct, but NGB has a much tighter distribution\n",
    "- Use MLP if you want more completely correct answers, and NGB if you want more nearly correct answers"
   ]
  },
  {
   "cell_type": "code",
   "execution_count": 197,
   "id": "oriental-sense",
   "metadata": {},
   "outputs": [
    {
     "name": "stderr",
     "output_type": "stream",
     "text": [
      "<ipython-input-197-2de7e7a46974>:3: RuntimeWarning: divide by zero encountered in double_scalars\n",
      "  mlp_val = math.log(abs(mlp_y_pred[i]/y_test[i]),10)\n",
      "<ipython-input-197-2de7e7a46974>:8: RuntimeWarning: divide by zero encountered in double_scalars\n",
      "  ngb_val = math.log(abs(ngb_y_pred[i]/y_test[i]),10)\n"
     ]
    },
    {
     "data": {
      "image/png": "[encoded data removed]",
      "text/plain": [
       "<Figure size 432x288 with 1 Axes>"
      ]
     },
     "metadata": {},
     "output_type": "display_data"
    }
   ],
   "source": [
    "all_logs = [[],[]]\n",
    "for i in range(len(y_test)):\n",
    "    mlp_val = math.log(abs(mlp_y_pred[i]/y_test[i]),10)\n",
    "    if mlp_val == math.inf:\n",
    "        all_logs[0].append(0)\n",
    "    else:\n",
    "        all_logs[0].append(mlp_val)\n",
    "    ngb_val = math.log(abs(ngb_y_pred[i]/y_test[i]),10)\n",
    "    if ngb_val == math.inf:\n",
    "        all_logs[1].append(0)\n",
    "    else:\n",
    "        all_logs[1].append(ngb_val)\n",
    "#print(len(all_mse[1]))\n",
    "\n",
    "fig, axs = plt.subplots(1, 1, sharey=True, tight_layout=True)\n",
    "fig.suptitle(graph_name + ' - Log comparison')\n",
    "\n",
    "axs.hist(all_logs[0], n_bins, histtype='step', color=colors[0], label=labels[0])\n",
    "#axs.set_title('MLP')\n",
    "axs.hist(all_logs[1], n_bins, histtype='stepfilled', color=colors[1], label=labels[1])\n",
    "#axs[1].legend(prop={'size': 10})\n",
    "#axs.set_title('NGBoost')\n",
    "axs.legend(prop={'size': 10})\n",
    "\n",
    "#plt.hist(all_mse, n_bins, histtype='bar', color=colors, label=['MLP', 'NGB'])\n",
    "#plt.legend(prop={'size': 10})\n",
    "plt.xlabel('log(M model / M true)')\n",
    "plt.ylabel('# of Galaxies')\n",
    "plt.show()"
   ]
  },
  {
   "cell_type": "code",
   "execution_count": null,
   "id": "irish-alexandria",
   "metadata": {},
   "outputs": [],
   "source": []
  }
 ],
 "metadata": {
  "kernelspec": {
   "display_name": "Python 3",
   "language": "python",
   "name": "python3"
  },
  "language_info": {
   "codemirror_mode": {
    "name": "ipython",
    "version": 3
   },
   "file_extension": ".py",
   "mimetype": "text/x-python",
   "name": "python",
   "nbconvert_exporter": "python",
   "pygments_lexer": "ipython3",
   "version": "3.8.5"
  }
 },
 "nbformat": 4,
 "nbformat_minor": 5
}
